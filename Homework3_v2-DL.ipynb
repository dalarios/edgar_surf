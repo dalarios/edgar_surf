{
 "cells": [
  {
   "cell_type": "code",
   "execution_count": null,
   "metadata": {},
   "outputs": [],
   "source": [
    "import motor_proteins as mp\n",
    "import pandas as pd\n",
    "import numpy as np\n",
    "import matplotlib.pyplot as plt\n",
    "from skimage import io\n",
    "import csv\n",
    "import glob\n",
    "from scipy.ndimage import gaussian_filter1d\n",
    "from scipy.integrate import solve_ivp\n",
    "from ipywidgets import interact, FloatSlider, Layout, interactive\n",
    "from scipy.optimize import minimize\n"
   ]
  },
  {
   "cell_type": "code",
   "execution_count": null,
   "metadata": {},
   "outputs": [],
   "source": [
    "paths = sorted(glob.glob(\"../../Thomson Lab Dropbox/David Larios/activedrops/microscope/072224-chimeras2_30C/2ultxtl-1uldna-0p5ulMT_2/Pos7/img_*********_gfp-4x_000.tif\")) # The paths must be sorted\n",
    "calibration_curve_paths = sorted(glob.glob(\"../../Thomson Lab Dropbox/SURF_activedrops/Edgar/calibration_curve/***ugml.tif\")) # These paths must also be sorted\n",
    "\n",
    "# Provide your specific values for N_p, N_m, D, and initial guesses - Known data\n",
    "N_m = 2604  # Number of nucleotides\n",
    "N_p = N_m/3  # Number of amino acids\n",
    "D = 100  # DNA concentration\n",
    "\n",
    "mw = 97.8 # kDa\n",
    "time_interval_min = 2 # minutes\n",
    "drop_volume = 2  # microliters\n",
    "\n",
    "protein_name = 'BleSto'\n",
    "\n",
    "# Initial guesses for the optimization parameters -- Reasonable guesses\n",
    "k_TL = 10      # Translation rate constant (1/s)\n",
    "k_TX = 1       # Transcription rate constant (1/s)\n",
    "R_p = 30       # Protein production rate (molecules/s)\n",
    "tau_m = 720    # Mean lifetime of mRNA (s)\n",
    "K_TL = 5       # Translation efficiency constant (unitless)\n",
    "R = 80        # Ribosome concentration (units)\n",
    "k_deg = 0.01   # Degradation rate constant (1/s)\n",
    "X_p = 1        # Protein concentration (nM)\n",
    "K_p = 4        # Protein degradation constant (nM)\n",
    "tau_0 = 0     # Initial time delay (s)\n",
    "tau_f = 300    # Final time delay (s)\n",
    "\n",
    "initial_guesses = [k_TL, k_TX, R_p, tau_m, K_TL, R, k_deg, X_p, K_p, tau_0, tau_f] # ***In the future, ask for inputs to the user\n",
    "\n",
    "# Time interval should be given in minutes, volume of the droplet should be given in microliters, molecular weight should be given in kDa\n",
    "mp.runFullAnalysis(paths, calibration_curve_paths, time_interval_min, drop_volume, mw, N_p, N_m, D, initial_guesses, f\"experimentalData_{protein_name}.csv\", f\"optimizedParameters_{protein_name}.csv\")"
   ]
  },
  {
   "cell_type": "code",
   "execution_count": null,
   "metadata": {},
   "outputs": [],
   "source": []
  }
 ],
 "metadata": {
  "kernelspec": {
   "display_name": "base",
   "language": "python",
   "name": "python3"
  },
  "language_info": {
   "codemirror_mode": {
    "name": "ipython",
    "version": 3
   },
   "file_extension": ".py",
   "mimetype": "text/x-python",
   "name": "python",
   "nbconvert_exporter": "python",
   "pygments_lexer": "ipython3",
   "version": "3.11.5"
  },
  "orig_nbformat": 4
 },
 "nbformat": 4,
 "nbformat_minor": 2
}
