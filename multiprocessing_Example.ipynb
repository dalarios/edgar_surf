{
 "cells": [
  {
   "cell_type": "code",
   "execution_count": 1,
   "metadata": {},
   "outputs": [],
   "source": [
    "import multiprocessing as mp\n",
    "import time\n",
    "import os"
   ]
  },
  {
   "cell_type": "code",
   "execution_count": 3,
   "metadata": {},
   "outputs": [
    {
     "name": "stdout",
     "output_type": "stream",
     "text": [
      "Using 8 cores\n",
      "Single process time: 0.2661 seconds\n",
      "Multiprocessing time: 0.0796 seconds\n"
     ]
    }
   ],
   "source": [
    "# Ensure the 'fork' method is used for starting the processes\n",
    "mp.set_start_method('fork', force=True)\n",
    "\n",
    "# Function to perform a CPU-bound task\n",
    "def sum_of_squares(n):\n",
    "    return sum(i * i for i in range(n))\n",
    "\n",
    "# Function to be executed in parallel (at the same time as 'sum_of_squares(n)')\n",
    "def worker(n):\n",
    "    sum_of_squares(n)\n",
    "    \n",
    "if __name__ == '__main__':\n",
    "    n = 10**6\n",
    "    num_processes = os.cpu_count()  # Get the number of available CPU cores\n",
    "    print(f'Using {num_processes} cores')\n",
    "\n",
    "    # Timing single process\n",
    "    start_time = time.time()\n",
    "    for _ in range(num_processes):\n",
    "        worker(n)\n",
    "    single_process_time = time.time() - start_time\n",
    "    print(f'Single process time: {single_process_time:.4f} seconds')\n",
    "\n",
    "    # Timing multiprocessing\n",
    "    start_time = time.time()\n",
    "    jobs = []\n",
    "    for _ in range(num_processes):\n",
    "        process = mp.Process(target=worker, args=(n,))\n",
    "        jobs.append(process)\n",
    "        process.start()\n",
    "    for job in jobs:\n",
    "        job.join()\n",
    "    multiprocessing_time = time.time() - start_time\n",
    "    print(f'Multiprocessing time: {multiprocessing_time:.4f} seconds')"
   ]
  },
  {
   "cell_type": "code",
   "execution_count": null,
   "metadata": {},
   "outputs": [],
   "source": []
  }
 ],
 "metadata": {
  "kernelspec": {
   "display_name": "base",
   "language": "python",
   "name": "python3"
  },
  "language_info": {
   "codemirror_mode": {
    "name": "ipython",
    "version": 3
   },
   "file_extension": ".py",
   "mimetype": "text/x-python",
   "name": "python",
   "nbconvert_exporter": "python",
   "pygments_lexer": "ipython3",
   "version": "3.11.7"
  },
  "orig_nbformat": 4
 },
 "nbformat": 4,
 "nbformat_minor": 2
}
